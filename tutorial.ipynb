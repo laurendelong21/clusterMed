{
 "cells": [
  {
   "attachments": {},
   "cell_type": "markdown",
   "metadata": {},
   "source": [
    "# Systematic Clustering Analysis upon Binary Multimorbidity Data\n",
    "\n",
    "This notebook demonstrates how to use the functions from the `clustr` package to do a systematic clustering analysis.\n",
    "\n",
    "Please read the directions in the `README.md` before proceeding.\n",
    "\n",
    "In this notebook, I use the `dummy_file.tsv`. While it is in the proper format, it is randomly generated and has no information about real conditions or participants. Consequently, the clustering results are meaningless. Most datasets containing patient information require special permission to distribute, so this notebook is dedicated exclusively to functionality."
   ]
  },
  {
   "cell_type": "code",
   "execution_count": 1,
   "metadata": {},
   "outputs": [
    {
     "name": "stdout",
     "output_type": "stream",
     "text": [
      "Initializing...\n",
      "Initializing...\n",
      "Initializing...\n",
      "Initializing...\n",
      "Initializing...\n"
     ]
    }
   ],
   "source": [
    "import pandas as pd\n",
    "import os\n",
    "import os.path as osp\n",
    "import statistics\n",
    "import json\n",
    "\n",
    "# Load in the results folders, designated in constants:\n",
    "from clustr.constants import HIER_AGG_RESULTS, KMEDOIDS_RESULTS, KMODES_RESULTS, LCA_RESULTS\n",
    "\n",
    "from clustr.utils import get_data, plot_ks, dict_to_json\n",
    "from clustr.hier_agg_utils import get_agg_clusters, plot_dendrogram\n",
    "from clustr.kmedoids_utils import calculate_kmedoids, fit_kmedoids\n",
    "from clustr.kmodes_utils import calculate_kmodes, fit_kmodes\n",
    "from clustr.lca_utils import select_lca_model, get_lca_clusters"
   ]
  },
  {
   "attachments": {},
   "cell_type": "markdown",
   "metadata": {},
   "source": [
    "## Data:\n",
    "\n",
    "Instructions on data formatting as well as the how-to to create the dummy file are also in the `README.md`. \n",
    "\n",
    "### Dummy file:\n",
    "\n",
    "Let's take a look at what the dummy file looks like:"
   ]
  },
  {
   "cell_type": "code",
   "execution_count": 2,
   "metadata": {},
   "outputs": [],
   "source": [
    "mmorb_df = pd.read_csv('./data/dummy_data.tsv', sep='\\t', index_col=0)"
   ]
  },
  {
   "cell_type": "code",
   "execution_count": 3,
   "metadata": {},
   "outputs": [
    {
     "data": {
      "text/html": [
       "<div>\n",
       "<style scoped>\n",
       "    .dataframe tbody tr th:only-of-type {\n",
       "        vertical-align: middle;\n",
       "    }\n",
       "\n",
       "    .dataframe tbody tr th {\n",
       "        vertical-align: top;\n",
       "    }\n",
       "\n",
       "    .dataframe thead th {\n",
       "        text-align: right;\n",
       "    }\n",
       "</style>\n",
       "<table border=\"1\" class=\"dataframe\">\n",
       "  <thead>\n",
       "    <tr style=\"text-align: right;\">\n",
       "      <th></th>\n",
       "      <th>disease_1</th>\n",
       "      <th>disease_2</th>\n",
       "      <th>disease_3</th>\n",
       "      <th>disease_4</th>\n",
       "      <th>disease_5</th>\n",
       "      <th>disease_6</th>\n",
       "      <th>disease_7</th>\n",
       "      <th>disease_8</th>\n",
       "      <th>disease_9</th>\n",
       "      <th>disease_10</th>\n",
       "      <th>...</th>\n",
       "      <th>disease_41</th>\n",
       "      <th>disease_42</th>\n",
       "      <th>disease_43</th>\n",
       "      <th>disease_44</th>\n",
       "      <th>disease_45</th>\n",
       "      <th>disease_46</th>\n",
       "      <th>disease_47</th>\n",
       "      <th>disease_48</th>\n",
       "      <th>disease_49</th>\n",
       "      <th>disease_50</th>\n",
       "    </tr>\n",
       "    <tr>\n",
       "      <th>index</th>\n",
       "      <th></th>\n",
       "      <th></th>\n",
       "      <th></th>\n",
       "      <th></th>\n",
       "      <th></th>\n",
       "      <th></th>\n",
       "      <th></th>\n",
       "      <th></th>\n",
       "      <th></th>\n",
       "      <th></th>\n",
       "      <th></th>\n",
       "      <th></th>\n",
       "      <th></th>\n",
       "      <th></th>\n",
       "      <th></th>\n",
       "      <th></th>\n",
       "      <th></th>\n",
       "      <th></th>\n",
       "      <th></th>\n",
       "      <th></th>\n",
       "      <th></th>\n",
       "    </tr>\n",
       "  </thead>\n",
       "  <tbody>\n",
       "    <tr>\n",
       "      <th>1</th>\n",
       "      <td>0</td>\n",
       "      <td>0</td>\n",
       "      <td>1</td>\n",
       "      <td>0</td>\n",
       "      <td>0</td>\n",
       "      <td>0</td>\n",
       "      <td>1</td>\n",
       "      <td>0</td>\n",
       "      <td>1</td>\n",
       "      <td>0</td>\n",
       "      <td>...</td>\n",
       "      <td>1</td>\n",
       "      <td>0</td>\n",
       "      <td>1</td>\n",
       "      <td>1</td>\n",
       "      <td>1</td>\n",
       "      <td>0</td>\n",
       "      <td>1</td>\n",
       "      <td>0</td>\n",
       "      <td>0</td>\n",
       "      <td>0</td>\n",
       "    </tr>\n",
       "    <tr>\n",
       "      <th>2</th>\n",
       "      <td>0</td>\n",
       "      <td>1</td>\n",
       "      <td>1</td>\n",
       "      <td>0</td>\n",
       "      <td>1</td>\n",
       "      <td>0</td>\n",
       "      <td>1</td>\n",
       "      <td>1</td>\n",
       "      <td>1</td>\n",
       "      <td>1</td>\n",
       "      <td>...</td>\n",
       "      <td>0</td>\n",
       "      <td>1</td>\n",
       "      <td>1</td>\n",
       "      <td>0</td>\n",
       "      <td>1</td>\n",
       "      <td>1</td>\n",
       "      <td>1</td>\n",
       "      <td>0</td>\n",
       "      <td>0</td>\n",
       "      <td>1</td>\n",
       "    </tr>\n",
       "    <tr>\n",
       "      <th>3</th>\n",
       "      <td>1</td>\n",
       "      <td>1</td>\n",
       "      <td>1</td>\n",
       "      <td>0</td>\n",
       "      <td>0</td>\n",
       "      <td>0</td>\n",
       "      <td>0</td>\n",
       "      <td>1</td>\n",
       "      <td>1</td>\n",
       "      <td>0</td>\n",
       "      <td>...</td>\n",
       "      <td>1</td>\n",
       "      <td>0</td>\n",
       "      <td>0</td>\n",
       "      <td>1</td>\n",
       "      <td>0</td>\n",
       "      <td>1</td>\n",
       "      <td>1</td>\n",
       "      <td>1</td>\n",
       "      <td>1</td>\n",
       "      <td>0</td>\n",
       "    </tr>\n",
       "    <tr>\n",
       "      <th>4</th>\n",
       "      <td>1</td>\n",
       "      <td>1</td>\n",
       "      <td>1</td>\n",
       "      <td>1</td>\n",
       "      <td>0</td>\n",
       "      <td>1</td>\n",
       "      <td>1</td>\n",
       "      <td>1</td>\n",
       "      <td>1</td>\n",
       "      <td>1</td>\n",
       "      <td>...</td>\n",
       "      <td>1</td>\n",
       "      <td>0</td>\n",
       "      <td>0</td>\n",
       "      <td>1</td>\n",
       "      <td>0</td>\n",
       "      <td>1</td>\n",
       "      <td>0</td>\n",
       "      <td>1</td>\n",
       "      <td>0</td>\n",
       "      <td>1</td>\n",
       "    </tr>\n",
       "    <tr>\n",
       "      <th>5</th>\n",
       "      <td>0</td>\n",
       "      <td>1</td>\n",
       "      <td>1</td>\n",
       "      <td>0</td>\n",
       "      <td>1</td>\n",
       "      <td>1</td>\n",
       "      <td>1</td>\n",
       "      <td>1</td>\n",
       "      <td>1</td>\n",
       "      <td>0</td>\n",
       "      <td>...</td>\n",
       "      <td>1</td>\n",
       "      <td>1</td>\n",
       "      <td>0</td>\n",
       "      <td>1</td>\n",
       "      <td>1</td>\n",
       "      <td>0</td>\n",
       "      <td>1</td>\n",
       "      <td>1</td>\n",
       "      <td>0</td>\n",
       "      <td>0</td>\n",
       "    </tr>\n",
       "  </tbody>\n",
       "</table>\n",
       "<p>5 rows × 50 columns</p>\n",
       "</div>"
      ],
      "text/plain": [
       "       disease_1  disease_2  disease_3  disease_4  disease_5  disease_6  \\\n",
       "index                                                                     \n",
       "1              0          0          1          0          0          0   \n",
       "2              0          1          1          0          1          0   \n",
       "3              1          1          1          0          0          0   \n",
       "4              1          1          1          1          0          1   \n",
       "5              0          1          1          0          1          1   \n",
       "\n",
       "       disease_7  disease_8  disease_9  disease_10  ...  disease_41  \\\n",
       "index                                               ...               \n",
       "1              1          0          1           0  ...           1   \n",
       "2              1          1          1           1  ...           0   \n",
       "3              0          1          1           0  ...           1   \n",
       "4              1          1          1           1  ...           1   \n",
       "5              1          1          1           0  ...           1   \n",
       "\n",
       "       disease_42  disease_43  disease_44  disease_45  disease_46  disease_47  \\\n",
       "index                                                                           \n",
       "1               0           1           1           1           0           1   \n",
       "2               1           1           0           1           1           1   \n",
       "3               0           0           1           0           1           1   \n",
       "4               0           0           1           0           1           0   \n",
       "5               1           0           1           1           0           1   \n",
       "\n",
       "       disease_48  disease_49  disease_50  \n",
       "index                                      \n",
       "1               0           0           0  \n",
       "2               0           0           1  \n",
       "3               1           1           0  \n",
       "4               1           0           1  \n",
       "5               1           0           0  \n",
       "\n",
       "[5 rows x 50 columns]"
      ]
     },
     "execution_count": 3,
     "metadata": {},
     "output_type": "execute_result"
    }
   ],
   "source": [
    "mmorb_df.head(5)"
   ]
  },
  {
   "attachments": {},
   "cell_type": "markdown",
   "metadata": {},
   "source": [
    "### Data Preparation\n",
    "\n",
    "Let's use the `get_data` function to prepare a sample of 10% of the data. Remember that reading all the data might be memory intensive, so think about whether your machine can do so."
   ]
  },
  {
   "cell_type": "code",
   "execution_count": 4,
   "metadata": {},
   "outputs": [],
   "source": [
    "processed_df, input_matrix, patient_ids, excluded_col, conditions = get_data('./data/dummy_data.tsv',\n",
    "                                                                             sample_frac=0.01,\n",
    "                                                                             drop_healthy=True,\n",
    "                                                                             coi='disease_3')"
   ]
  },
  {
   "cell_type": "code",
   "execution_count": 5,
   "metadata": {},
   "outputs": [
    {
     "data": {
      "text/html": [
       "<div>\n",
       "<style scoped>\n",
       "    .dataframe tbody tr th:only-of-type {\n",
       "        vertical-align: middle;\n",
       "    }\n",
       "\n",
       "    .dataframe tbody tr th {\n",
       "        vertical-align: top;\n",
       "    }\n",
       "\n",
       "    .dataframe thead th {\n",
       "        text-align: right;\n",
       "    }\n",
       "</style>\n",
       "<table border=\"1\" class=\"dataframe\">\n",
       "  <thead>\n",
       "    <tr style=\"text-align: right;\">\n",
       "      <th></th>\n",
       "      <th>disease_1</th>\n",
       "      <th>disease_2</th>\n",
       "      <th>disease_4</th>\n",
       "      <th>disease_5</th>\n",
       "      <th>disease_6</th>\n",
       "      <th>disease_7</th>\n",
       "      <th>disease_8</th>\n",
       "      <th>disease_9</th>\n",
       "      <th>disease_10</th>\n",
       "      <th>disease_11</th>\n",
       "      <th>...</th>\n",
       "      <th>disease_42</th>\n",
       "      <th>disease_43</th>\n",
       "      <th>disease_44</th>\n",
       "      <th>disease_45</th>\n",
       "      <th>disease_46</th>\n",
       "      <th>disease_47</th>\n",
       "      <th>disease_48</th>\n",
       "      <th>disease_49</th>\n",
       "      <th>disease_50</th>\n",
       "      <th>tot_conditions</th>\n",
       "    </tr>\n",
       "    <tr>\n",
       "      <th>index</th>\n",
       "      <th></th>\n",
       "      <th></th>\n",
       "      <th></th>\n",
       "      <th></th>\n",
       "      <th></th>\n",
       "      <th></th>\n",
       "      <th></th>\n",
       "      <th></th>\n",
       "      <th></th>\n",
       "      <th></th>\n",
       "      <th></th>\n",
       "      <th></th>\n",
       "      <th></th>\n",
       "      <th></th>\n",
       "      <th></th>\n",
       "      <th></th>\n",
       "      <th></th>\n",
       "      <th></th>\n",
       "      <th></th>\n",
       "      <th></th>\n",
       "      <th></th>\n",
       "    </tr>\n",
       "  </thead>\n",
       "  <tbody>\n",
       "    <tr>\n",
       "      <th>9954</th>\n",
       "      <td>1</td>\n",
       "      <td>0</td>\n",
       "      <td>0</td>\n",
       "      <td>0</td>\n",
       "      <td>1</td>\n",
       "      <td>0</td>\n",
       "      <td>0</td>\n",
       "      <td>0</td>\n",
       "      <td>0</td>\n",
       "      <td>0</td>\n",
       "      <td>...</td>\n",
       "      <td>1</td>\n",
       "      <td>0</td>\n",
       "      <td>1</td>\n",
       "      <td>1</td>\n",
       "      <td>1</td>\n",
       "      <td>1</td>\n",
       "      <td>1</td>\n",
       "      <td>0</td>\n",
       "      <td>0</td>\n",
       "      <td>25</td>\n",
       "    </tr>\n",
       "    <tr>\n",
       "      <th>3851</th>\n",
       "      <td>1</td>\n",
       "      <td>0</td>\n",
       "      <td>1</td>\n",
       "      <td>1</td>\n",
       "      <td>0</td>\n",
       "      <td>0</td>\n",
       "      <td>1</td>\n",
       "      <td>0</td>\n",
       "      <td>1</td>\n",
       "      <td>0</td>\n",
       "      <td>...</td>\n",
       "      <td>0</td>\n",
       "      <td>1</td>\n",
       "      <td>1</td>\n",
       "      <td>1</td>\n",
       "      <td>0</td>\n",
       "      <td>0</td>\n",
       "      <td>0</td>\n",
       "      <td>1</td>\n",
       "      <td>0</td>\n",
       "      <td>23</td>\n",
       "    </tr>\n",
       "    <tr>\n",
       "      <th>4963</th>\n",
       "      <td>0</td>\n",
       "      <td>1</td>\n",
       "      <td>0</td>\n",
       "      <td>1</td>\n",
       "      <td>1</td>\n",
       "      <td>0</td>\n",
       "      <td>1</td>\n",
       "      <td>0</td>\n",
       "      <td>1</td>\n",
       "      <td>0</td>\n",
       "      <td>...</td>\n",
       "      <td>0</td>\n",
       "      <td>0</td>\n",
       "      <td>1</td>\n",
       "      <td>1</td>\n",
       "      <td>0</td>\n",
       "      <td>0</td>\n",
       "      <td>0</td>\n",
       "      <td>1</td>\n",
       "      <td>0</td>\n",
       "      <td>22</td>\n",
       "    </tr>\n",
       "    <tr>\n",
       "      <th>3887</th>\n",
       "      <td>1</td>\n",
       "      <td>1</td>\n",
       "      <td>1</td>\n",
       "      <td>0</td>\n",
       "      <td>0</td>\n",
       "      <td>0</td>\n",
       "      <td>0</td>\n",
       "      <td>1</td>\n",
       "      <td>0</td>\n",
       "      <td>0</td>\n",
       "      <td>...</td>\n",
       "      <td>1</td>\n",
       "      <td>1</td>\n",
       "      <td>0</td>\n",
       "      <td>0</td>\n",
       "      <td>0</td>\n",
       "      <td>0</td>\n",
       "      <td>0</td>\n",
       "      <td>0</td>\n",
       "      <td>1</td>\n",
       "      <td>21</td>\n",
       "    </tr>\n",
       "    <tr>\n",
       "      <th>5438</th>\n",
       "      <td>0</td>\n",
       "      <td>1</td>\n",
       "      <td>1</td>\n",
       "      <td>0</td>\n",
       "      <td>1</td>\n",
       "      <td>0</td>\n",
       "      <td>1</td>\n",
       "      <td>0</td>\n",
       "      <td>0</td>\n",
       "      <td>1</td>\n",
       "      <td>...</td>\n",
       "      <td>1</td>\n",
       "      <td>0</td>\n",
       "      <td>1</td>\n",
       "      <td>0</td>\n",
       "      <td>1</td>\n",
       "      <td>0</td>\n",
       "      <td>0</td>\n",
       "      <td>1</td>\n",
       "      <td>0</td>\n",
       "      <td>22</td>\n",
       "    </tr>\n",
       "  </tbody>\n",
       "</table>\n",
       "<p>5 rows × 50 columns</p>\n",
       "</div>"
      ],
      "text/plain": [
       "       disease_1  disease_2  disease_4  disease_5  disease_6  disease_7  \\\n",
       "index                                                                     \n",
       "9954           1          0          0          0          1          0   \n",
       "3851           1          0          1          1          0          0   \n",
       "4963           0          1          0          1          1          0   \n",
       "3887           1          1          1          0          0          0   \n",
       "5438           0          1          1          0          1          0   \n",
       "\n",
       "       disease_8  disease_9  disease_10  disease_11  ...  disease_42  \\\n",
       "index                                                ...               \n",
       "9954           0          0           0           0  ...           1   \n",
       "3851           1          0           1           0  ...           0   \n",
       "4963           1          0           1           0  ...           0   \n",
       "3887           0          1           0           0  ...           1   \n",
       "5438           1          0           0           1  ...           1   \n",
       "\n",
       "       disease_43  disease_44  disease_45  disease_46  disease_47  disease_48  \\\n",
       "index                                                                           \n",
       "9954            0           1           1           1           1           1   \n",
       "3851            1           1           1           0           0           0   \n",
       "4963            0           1           1           0           0           0   \n",
       "3887            1           0           0           0           0           0   \n",
       "5438            0           1           0           1           0           0   \n",
       "\n",
       "       disease_49  disease_50  tot_conditions  \n",
       "index                                          \n",
       "9954            0           0              25  \n",
       "3851            1           0              23  \n",
       "4963            1           0              22  \n",
       "3887            0           1              21  \n",
       "5438            1           0              22  \n",
       "\n",
       "[5 rows x 50 columns]"
      ]
     },
     "execution_count": 5,
     "metadata": {},
     "output_type": "execute_result"
    }
   ],
   "source": [
    "processed_df.head(5)"
   ]
  },
  {
   "attachments": {},
   "cell_type": "markdown",
   "metadata": {},
   "source": [
    "Note that we held out disease_3. Perhaps that's because we want to use those later and not in the clustering. Therefore, those features are saved alongside the patient IDs within another object:"
   ]
  },
  {
   "cell_type": "code",
   "execution_count": 6,
   "metadata": {},
   "outputs": [
    {
     "data": {
      "text/plain": [
       "index\n",
       "9954    0\n",
       "3851    1\n",
       "4963    1\n",
       "3887    0\n",
       "5438    1\n",
       "Name: disease_3, dtype: int64"
      ]
     },
     "execution_count": 6,
     "metadata": {},
     "output_type": "execute_result"
    }
   ],
   "source": [
    "excluded_col.head(5)"
   ]
  },
  {
   "attachments": {},
   "cell_type": "markdown",
   "metadata": {},
   "source": [
    "We also have objects saving patient IDs and disease names:"
   ]
  },
  {
   "cell_type": "code",
   "execution_count": 7,
   "metadata": {},
   "outputs": [
    {
     "data": {
      "text/plain": [
       "[9954, 3851, 4963, 3887, 5438, 8518, 2042, 1990, 1934, 9985]"
      ]
     },
     "execution_count": 7,
     "metadata": {},
     "output_type": "execute_result"
    }
   ],
   "source": [
    "patient_ids[0:10]"
   ]
  },
  {
   "cell_type": "code",
   "execution_count": 8,
   "metadata": {},
   "outputs": [
    {
     "data": {
      "text/plain": [
       "['disease_1',\n",
       " 'disease_2',\n",
       " 'disease_4',\n",
       " 'disease_5',\n",
       " 'disease_6',\n",
       " 'disease_7',\n",
       " 'disease_8',\n",
       " 'disease_9',\n",
       " 'disease_10',\n",
       " 'disease_11']"
      ]
     },
     "execution_count": 8,
     "metadata": {},
     "output_type": "execute_result"
    }
   ],
   "source": [
    "conditions[0:10]"
   ]
  },
  {
   "attachments": {},
   "cell_type": "markdown",
   "metadata": {},
   "source": [
    "Finally, we have the matrix which we can feed into the clustering methods:"
   ]
  },
  {
   "cell_type": "code",
   "execution_count": 9,
   "metadata": {},
   "outputs": [
    {
     "data": {
      "text/plain": [
       "array([[1, 0, 0, ..., 1, 0, 0],\n",
       "       [1, 0, 1, ..., 0, 1, 0],\n",
       "       [0, 1, 0, ..., 0, 1, 0],\n",
       "       ...,\n",
       "       [1, 0, 1, ..., 1, 0, 0],\n",
       "       [0, 0, 1, ..., 0, 1, 1],\n",
       "       [1, 0, 1, ..., 0, 1, 1]])"
      ]
     },
     "execution_count": 9,
     "metadata": {},
     "output_type": "execute_result"
    }
   ],
   "source": [
    "input_matrix"
   ]
  },
  {
   "attachments": {},
   "cell_type": "markdown",
   "metadata": {},
   "source": [
    "## Clustering"
   ]
  },
  {
   "attachments": {},
   "cell_type": "markdown",
   "metadata": {},
   "source": [
    "I'll make the recommended results folders for each clustering approach. You can also make your own directories and write the results wherever you want."
   ]
  },
  {
   "cell_type": "code",
   "execution_count": 10,
   "metadata": {},
   "outputs": [],
   "source": [
    "for dir in [HIER_AGG_RESULTS, KMEDOIDS_RESULTS, KMODES_RESULTS, LCA_RESULTS]:\n",
    "    os.makedirs(dir, exist_ok=True)"
   ]
  },
  {
   "attachments": {},
   "cell_type": "markdown",
   "metadata": {},
   "source": [
    "### Agglomerative Hierarchical Clustering (AHC)\n",
    "\n",
    "Remember that AHC works consistently, so we should get the same results each time.\n",
    "\n",
    "We can, however, change the linkage type or metric. The default is complete linkage with Hamming distance. We use the [sklearn function](https://scikit-learn.org/stable/modules/generated/sklearn.cluster.AgglomerativeClustering.html), so other options can be explored there.\n",
    "\n",
    "We save the model and the labels."
   ]
  },
  {
   "cell_type": "code",
   "execution_count": 11,
   "metadata": {},
   "outputs": [],
   "source": [
    "model, labels = get_agg_clusters(data_mat=input_matrix,\n",
    "                                 out_folder=HIER_AGG_RESULTS)"
   ]
  },
  {
   "attachments": {},
   "cell_type": "markdown",
   "metadata": {},
   "source": [
    "The labels record which clusters the participants, or patients, belong to. The order corresponds to the `patient_ids` array from earlier."
   ]
  },
  {
   "cell_type": "code",
   "execution_count": 12,
   "metadata": {},
   "outputs": [
    {
     "data": {
      "text/plain": [
       "array([2, 5, 5, 2, 0, 3, 2, 6, 0, 5])"
      ]
     },
     "execution_count": 12,
     "metadata": {},
     "output_type": "execute_result"
    }
   ],
   "source": [
    "labels[0:10]"
   ]
  },
  {
   "cell_type": "code",
   "execution_count": 13,
   "metadata": {},
   "outputs": [
    {
     "name": "stdout",
     "output_type": "stream",
     "text": [
      "The AHC approach identified 10 clusters.\n"
     ]
    }
   ],
   "source": [
    "print(f\"The AHC approach identified {len(set(labels))} clusters.\")"
   ]
  },
  {
   "cell_type": "code",
   "execution_count": 14,
   "metadata": {},
   "outputs": [],
   "source": [
    "# Save a dataframe consisting of the patient IDs and their respective cluster assignments:\n",
    "results_df = pd.DataFrame({'patient_id': patient_ids, 'cluster': labels})\n",
    "# Output to the HIER_AGG_RESULTS directory:\n",
    "results_df.to_csv(osp.join(HIER_AGG_RESULTS, 'hier_agg_labels.tsv'), sep='\\t', index=False)"
   ]
  },
  {
   "attachments": {},
   "cell_type": "markdown",
   "metadata": {},
   "source": [
    "Notice that you also have a `scores.json` file within your results directory. This contains the final clustering metrics including the silhouette score, Calinski and Harabasz score, and Davies Bouldin score.\n",
    "\n",
    "If you want to visualize the dendrogram, you can do so. This is particularly useful for choosing the best linkage type and metric."
   ]
  },
  {
   "cell_type": "code",
   "execution_count": 15,
   "metadata": {},
   "outputs": [
    {
     "data": {
      "image/png": "[encoded data removed]",
      "text/plain": [
       "<Figure size 640x480 with 1 Axes>"
      ]
     },
     "metadata": {},
     "output_type": "display_data"
    }
   ],
   "source": [
    "plot_dendrogram(data_mat=input_matrix,\n",
    "                out_folder=HIER_AGG_RESULTS)"
   ]
  },
  {
   "attachments": {},
   "cell_type": "markdown",
   "metadata": {},
   "source": [
    "Since the data we generated is random, it should be unsurprising that the clusters look like this!"
   ]
  },
  {
   "attachments": {},
   "cell_type": "markdown",
   "metadata": {},
   "source": [
    "### *K*-medoids clustering\n",
    "\n",
    "Let's do *K*-medoids clustering next, since it is also consistent. We implement it with [sklearn's function](https://scikit-learn-extra.readthedocs.io/en/stable/generated/sklearn_extra.cluster.KMedoids.html) with cosine similarity.\n",
    "\n",
    "First, unlike AHC, we have to choose the number of clusters, *k*. We can plot silhouette scores for each model corresponding to a different *k*.\n",
    "\n",
    "First, run for some range of *k*. We'll do [2, 10]."
   ]
  },
  {
   "cell_type": "code",
   "execution_count": 16,
   "metadata": {},
   "outputs": [
    {
     "name": "stdout",
     "output_type": "stream",
     "text": [
      "Cluster initiation: 2\n",
      "Cluster initiation: 3\n",
      "Cluster initiation: 4\n",
      "Cluster initiation: 5\n",
      "Cluster initiation: 6\n",
      "Cluster initiation: 7\n",
      "Cluster initiation: 8\n",
      "Cluster initiation: 9\n",
      "Cluster initiation: 10\n"
     ]
    }
   ],
   "source": [
    "costs, sil_scores = calculate_kmedoids(data_mat=input_matrix,\n",
    "                                      min_k=2,\n",
    "                                      max_k=10)"
   ]
  },
  {
   "attachments": {},
   "cell_type": "markdown",
   "metadata": {},
   "source": [
    "We can save those costs and silhouette scores (maybe we want to use them later?):"
   ]
  },
  {
   "cell_type": "code",
   "execution_count": 17,
   "metadata": {},
   "outputs": [],
   "source": [
    "dict_to_json(sil_scores, osp.join(KMEDOIDS_RESULTS, 'sil_scores.json'))\n",
    "dict_to_json(costs, osp.join(KMEDOIDS_RESULTS, 'costs.json'))"
   ]
  },
  {
   "attachments": {},
   "cell_type": "markdown",
   "metadata": {},
   "source": [
    "Plot a scree plot of the costs of each model against *k*:"
   ]
  },
  {
   "cell_type": "code",
   "execution_count": 18,
   "metadata": {},
   "outputs": [],
   "source": [
    "plot_ks(cost=costs,\n",
    "        out_folder=KMEDOIDS_RESULTS,\n",
    "        min_k=2,\n",
    "        max_k=10)"
   ]
  },
  {
   "attachments": {},
   "cell_type": "markdown",
   "metadata": {},
   "source": [
    "You can also plot the silhouette scores, instead, if you want:"
   ]
  },
  {
   "cell_type": "code",
   "execution_count": 19,
   "metadata": {},
   "outputs": [],
   "source": [
    "plot_ks(cost=sil_scores,\n",
    "        out_folder=KMEDOIDS_RESULTS,\n",
    "        metric='silhouette',\n",
    "        min_k=2,\n",
    "        max_k=10)"
   ]
  },
  {
   "attachments": {},
   "cell_type": "markdown",
   "metadata": {},
   "source": [
    "Typically, you want to use the [elbow method](https://www.geeksforgeeks.org/elbow-method-for-optimal-value-of-k-in-kmeans/) on the costs scree plot, but since this is fake data, it doesn't really work. Let's just choose *k*=7 and fit the final model.\n",
    "\n",
    "Here, we also have centroids, so we pass the `conditions` array as an argument so that it can tell us what conditions the centroids comprise."
   ]
  },
  {
   "cell_type": "code",
   "execution_count": 20,
   "metadata": {},
   "outputs": [],
   "source": [
    "model, labels = fit_kmedoids(data_mat=input_matrix,\n",
    "                             out_folder=KMEDOIDS_RESULTS,\n",
    "                             cgrps=conditions,\n",
    "                             k=7)"
   ]
  },
  {
   "attachments": {},
   "cell_type": "markdown",
   "metadata": {},
   "source": [
    "Again, labels record which clusters the participants, or patients, belong to. The order corresponds to the `patient_ids` array from earlier."
   ]
  },
  {
   "cell_type": "code",
   "execution_count": 21,
   "metadata": {},
   "outputs": [
    {
     "name": "stdout",
     "output_type": "stream",
     "text": [
      "The k-medoids approach identified 7 clusters.\n"
     ]
    }
   ],
   "source": [
    "print(f\"The k-medoids approach identified {len(set(labels))} clusters.\")"
   ]
  },
  {
   "cell_type": "code",
   "execution_count": 22,
   "metadata": {},
   "outputs": [],
   "source": [
    "# Save a dataframe consisting of the patient IDs and their respective cluster assignments:\n",
    "results_df = pd.DataFrame({'patient_id': patient_ids, 'cluster': labels})\n",
    "# Output to the HIER_AGG_RESULTS directory:\n",
    "results_df.to_csv(osp.join(KMEDOIDS_RESULTS, 'kmedoids_cluster_labels.tsv'), sep='\\t', index=False)"
   ]
  },
  {
   "attachments": {},
   "cell_type": "markdown",
   "metadata": {},
   "source": [
    "Also, again, notice that you also have a `scores.json` file within your results directory. This contains the final clustering metrics including the silhouette score, Calinski and Harabasz score, and Davies Bouldin score."
   ]
  },
  {
   "attachments": {},
   "cell_type": "markdown",
   "metadata": {},
   "source": [
    "### *K*-modes Clustering\n",
    "\n",
    "Now we move on to those that are less consistent. Since it's sensitive to the intial cluster assignments, *k*-modes is better to be done in replicates, and this notebook will show you how.\n",
    "\n",
    "We implement *k*-modes with the [kmodes module](https://pypi.org/project/kmodes/) and the Huang metric.\n",
    "\n",
    "First, as before, we need to select the most appropriate *k*."
   ]
  },
  {
   "cell_type": "code",
   "execution_count": 23,
   "metadata": {},
   "outputs": [
    {
     "name": "stdout",
     "output_type": "stream",
     "text": [
      "Cluster initiation: 2\n",
      "Cluster initiation: 3\n",
      "Cluster initiation: 4\n",
      "Cluster initiation: 5\n",
      "Cluster initiation: 6\n",
      "Cluster initiation: 7\n",
      "Cluster initiation: 8\n",
      "Cluster initiation: 9\n",
      "Cluster initiation: 10\n"
     ]
    }
   ],
   "source": [
    "costs, sil_scores = calculate_kmodes(data_mat=input_matrix,\n",
    "                                     min_k=2,\n",
    "                                     max_k=10)"
   ]
  },
  {
   "cell_type": "markdown",
   "metadata": {},
   "source": [
    "We can save those costs and silhouette scores (maybe we want to use them later?):"
   ]
  },
  {
   "cell_type": "code",
   "execution_count": 24,
   "metadata": {},
   "outputs": [],
   "source": [
    "dict_to_json(sil_scores, osp.join(KMODES_RESULTS, 'sil_scores.json'))\n",
    "dict_to_json(costs, osp.join(KMODES_RESULTS, 'costs.json'))"
   ]
  },
  {
   "cell_type": "markdown",
   "metadata": {},
   "source": [
    "Plot a scree plot of the costs of each model against *k*:"
   ]
  },
  {
   "cell_type": "code",
   "execution_count": 25,
   "metadata": {},
   "outputs": [],
   "source": [
    "plot_ks(cost=costs,\n",
    "        out_folder=KMODES_RESULTS,\n",
    "        min_k=2,\n",
    "        max_k=10)"
   ]
  },
  {
   "cell_type": "markdown",
   "metadata": {},
   "source": [
    "You can also plot the silhouette scores, instead, if you want:"
   ]
  },
  {
   "cell_type": "code",
   "execution_count": 26,
   "metadata": {},
   "outputs": [],
   "source": [
    "plot_ks(cost=sil_scores,\n",
    "        out_folder=KMODES_RESULTS,\n",
    "        metric='silhouette',\n",
    "        min_k=2,\n",
    "        max_k=10)"
   ]
  },
  {
   "attachments": {},
   "cell_type": "markdown",
   "metadata": {},
   "source": [
    "Again, you want to use the [elbow method](https://www.geeksforgeeks.org/elbow-method-for-optimal-value-of-k-in-kmeans/) on the costs scree plot, but since this is fake data, it doesn't really work. Let's just choose *k*=7 again and fit the final model.\n",
    "\n",
    "Here, we also have centroids, so we pass the `conditions` array as an argument so that it can tell us what conditions the centroids comprise."
   ]
  },
  {
   "cell_type": "code",
   "execution_count": 27,
   "metadata": {},
   "outputs": [],
   "source": [
    "model, labels = fit_kmedoids(data_mat=input_matrix,\n",
    "                             out_folder=KMODES_RESULTS,\n",
    "                             cgrps=conditions,\n",
    "                             k=7)"
   ]
  },
  {
   "cell_type": "markdown",
   "metadata": {},
   "source": [
    "Again, labels record which clusters the participants, or patients, belong to. The order corresponds to the `patient_ids` array from earlier."
   ]
  },
  {
   "cell_type": "code",
   "execution_count": 28,
   "metadata": {},
   "outputs": [
    {
     "name": "stdout",
     "output_type": "stream",
     "text": [
      "The k-modes approach identified 7 clusters.\n"
     ]
    }
   ],
   "source": [
    "print(f\"The k-modes approach identified {len(set(labels))} clusters.\")"
   ]
  },
  {
   "cell_type": "code",
   "execution_count": 29,
   "metadata": {},
   "outputs": [],
   "source": [
    "# Save a dataframe consisting of the patient IDs and their respective cluster assignments:\n",
    "results_df = pd.DataFrame({'patient_id': patient_ids, 'cluster': labels})\n",
    "# Output to the HIER_AGG_RESULTS directory:\n",
    "results_df.to_csv(osp.join(KMODES_RESULTS, 'kmodes_cluster_labels.tsv'), sep='\\t', index=False)"
   ]
  },
  {
   "attachments": {},
   "cell_type": "markdown",
   "metadata": {},
   "source": [
    "Also, again, notice that you also have a `scores.json` file within your results directory. This contains the final clustering metrics including the silhouette score, Calinski and Harabasz score, and Davies Bouldin score.\n",
    "\n",
    "#### Repetitions\n",
    "\n",
    "But what if we want to do some repetitions? We could do so by making subdirectories, then writing the results within each of those subdirectories!"
   ]
  },
  {
   "cell_type": "code",
   "execution_count": 30,
   "metadata": {},
   "outputs": [],
   "source": [
    "# do 3 repetitions\n",
    "repetitions = 3"
   ]
  },
  {
   "cell_type": "code",
   "execution_count": 31,
   "metadata": {},
   "outputs": [],
   "source": [
    "for i in range(repetitions):\n",
    "    subfolder = osp.join(KMODES_RESULTS, f'run_{i}')\n",
    "    os.makedirs(subfolder, exist_ok=True)\n",
    "    # run k-modes, and replace the out_folder argument with the subdirectory\n",
    "    model, labels = fit_kmedoids(data_mat=input_matrix,\n",
    "                             out_folder=subfolder,\n",
    "                             cgrps=conditions,\n",
    "                             k=7)\n",
    "    # save the labels, and replace the out_folder argument with the subdirectory\n",
    "    results_df = pd.DataFrame({'patient_id': patient_ids, 'cluster': labels})\n",
    "    results_df.to_csv(osp.join(subfolder, 'kmodes_cluster_labels.tsv'), sep='\\t', index=False)"
   ]
  },
  {
   "attachments": {},
   "cell_type": "markdown",
   "metadata": {},
   "source": [
    "Now, you see that there is a `scores.json` file for each run.\n",
    "\n",
    "From those, you can calculate summary statistics. For example:"
   ]
  },
  {
   "cell_type": "code",
   "execution_count": 32,
   "metadata": {},
   "outputs": [],
   "source": [
    "def summarize_runs(folder, num_runs):\n",
    "    \"\"\"Gets summary statistics for the given folder for runs 0-num_runs\"\"\"\n",
    "    scores_dict = {'silhouette': [],\n",
    "                  'davies_boulden': [],\n",
    "                  'calinski_harabasz': []}\n",
    "\n",
    "    best_runs = {'silhouette': None,\n",
    "                  'davies_boulden': None,\n",
    "                  'calinski_harabasz': None}\n",
    "\n",
    "    for i in range(num_runs):\n",
    "        scores_file = osp.join(folder, f'run_{i}/scores.json')\n",
    "        with open(scores_file, 'r') as json_file:\n",
    "            scores = json.load(json_file)\n",
    "        for key, val in scores.items():\n",
    "            scores_dict[key].append(val)\n",
    "            if not best_runs[key]:\n",
    "                best_runs[key] = (i, val)\n",
    "            elif key == 'davies_boulden' and val < best_runs[key][1]:  # davies bouldin is minimized\n",
    "                best_runs[key] = (i, val)\n",
    "            elif key != 'davies_boulden' and val > best_runs[key][1]:  # the other two are maximized\n",
    "                best_runs[key] = (i, val)\n",
    "\n",
    "    avgs = dict()\n",
    "    # stdevs = dict()\n",
    "    for key, val in scores_dict.items():\n",
    "        avgs[key] = f'({statistics.mean(val)}, {statistics.stdev(val)})'\n",
    "        \n",
    "    return avgs, best_runs"
   ]
  },
  {
   "attachments": {},
   "cell_type": "markdown",
   "metadata": {},
   "source": [
    "The above gets two dictionaries. The first contains tuples of (average, standard deviation), and the second dictionary comrprises tuples of (best run number, corresponding value).\n",
    "\n",
    "We can try it:"
   ]
  },
  {
   "cell_type": "code",
   "execution_count": 33,
   "metadata": {},
   "outputs": [
    {
     "data": {
      "text/plain": [
       "({'silhouette': '(0.007995860580133485, 0.0)',\n",
       "  'davies_boulden': '(3.790450611194413, 0.0)',\n",
       "  'calinski_harabasz': '(2.0492377625682043, 0.0)'},\n",
       " {'silhouette': (0, 0.007995860580133485),\n",
       "  'davies_boulden': (0, 3.790450611194413),\n",
       "  'calinski_harabasz': (0, 2.0492377625682043)})"
      ]
     },
     "execution_count": 33,
     "metadata": {},
     "output_type": "execute_result"
    }
   ],
   "source": [
    "summarize_runs(KMODES_RESULTS, 3)"
   ]
  },
  {
   "attachments": {},
   "cell_type": "markdown",
   "metadata": {},
   "source": [
    "## Latent Class Analysis (LCA)\n",
    "\n",
    "Finally, we can do Latent Class Analysis. We implemented it with code from [this repository](https://github.com/dasirra/latent-class-analysis/blob/master/src/test_lca.ipynb).\n",
    "\n",
    "Here, we want to pick the best *k* classes (the most likely number of latent classes). With LCA, we can do this with BIC score. Lower BIC is better, so in reality, you should explore a range of *k*s until you see a plateau."
   ]
  },
  {
   "cell_type": "code",
   "execution_count": 34,
   "metadata": {},
   "outputs": [
    {
     "data": {
      "image/png": "[encoded data removed]",
      "text/plain": [
       "<Figure size 1500x500 with 1 Axes>"
      ]
     },
     "metadata": {},
     "output_type": "display_data"
    }
   ],
   "source": [
    "bics = select_lca_model(data_mat=input_matrix,\n",
    "                        out_folder=LCA_RESULTS,\n",
    "                        min_k=2,\n",
    "                        max_k=10)"
   ]
  },
  {
   "attachments": {},
   "cell_type": "markdown",
   "metadata": {},
   "source": [
    "However, once again, since this is fake data, let's move on. We'll just choose *k*=10."
   ]
  },
  {
   "cell_type": "code",
   "execution_count": 35,
   "metadata": {},
   "outputs": [],
   "source": [
    "model, labels = get_lca_clusters(data_mat=input_matrix,\n",
    "                                 out_folder=LCA_RESULTS,\n",
    "                                 k=10)"
   ]
  },
  {
   "attachments": {},
   "cell_type": "markdown",
   "metadata": {},
   "source": [
    "Remember, though, that LCA is also sensitive to initialization, so let's do repetitions for it, just as we did for *k*-modes."
   ]
  },
  {
   "cell_type": "code",
   "execution_count": 36,
   "metadata": {},
   "outputs": [],
   "source": [
    "for i in range(repetitions):\n",
    "    subfolder = osp.join(LCA_RESULTS, f'run_{i}')\n",
    "    os.makedirs(subfolder, exist_ok=True)\n",
    "    # run LCA, and replace the out_folder argument with the subdirectory\n",
    "    model, labels = get_lca_clusters(data_mat=input_matrix,\n",
    "                                 out_folder=subfolder,\n",
    "                                 k=10)\n",
    "    # save the labels, and replace the out_folder argument with the subdirectory\n",
    "    results_df = pd.DataFrame({'patient_id': patient_ids, 'cluster': labels})\n",
    "    results_df.to_csv(osp.join(subfolder, 'lca_cluster_labels.tsv'), sep='\\t', index=False)"
   ]
  },
  {
   "cell_type": "code",
   "execution_count": 37,
   "metadata": {},
   "outputs": [
    {
     "data": {
      "text/plain": [
       "({'silhouette': '(-0.02307503031057729, 0.0603078282859294)',\n",
       "  'davies_boulden': '(2.874638420106713, 0.47212970420320394)',\n",
       "  'calinski_harabasz': '(1.9499603723701033, 0.31275032989469204)'},\n",
       " {'silhouette': (2, 0.014857851405525117),\n",
       "  'davies_boulden': (0, 2.330212158398508),\n",
       "  'calinski_harabasz': (2, 2.167074321980135)})"
      ]
     },
     "execution_count": 37,
     "metadata": {},
     "output_type": "execute_result"
    }
   ],
   "source": [
    "summarize_runs(LCA_RESULTS, 3)"
   ]
  },
  {
   "attachments": {},
   "cell_type": "markdown",
   "metadata": {},
   "source": [
    "And there we have it. Feel free to use this notebook as a starting point for exploring your data."
   ]
  }
 ],
 "metadata": {
  "kernelspec": {
   "display_name": "venv",
   "language": "python",
   "name": "venv"
  },
  "language_info": {
   "codemirror_mode": {
    "name": "ipython",
    "version": 3
   },
   "file_extension": ".py",
   "mimetype": "text/x-python",
   "name": "python",
   "nbconvert_exporter": "python",
   "pygments_lexer": "ipython3",
   "version": "3.9.5"
  },
  "orig_nbformat": 4
 },
 "nbformat": 4,
 "nbformat_minor": 2
}
